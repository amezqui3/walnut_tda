{
 "cells": [
  {
   "cell_type": "code",
   "execution_count": 1,
   "id": "popular-player",
   "metadata": {},
   "outputs": [],
   "source": [
    "import tifffile as tf\n",
    "from scipy import ndimage\n",
    "import numpy as np\n",
    "import pandas as pd\n",
    "\n",
    "import os\n",
    "import glob\n",
    "from importlib import reload\n",
    "\n",
    "import warnings\n",
    "warnings.filterwarnings( \"ignore\")\n",
    "from matplotlib import pyplot as plt\n",
    "%matplotlib inline\n",
    "\n",
    "import walnut_utils as wnut\n",
    "\n",
    "from skimage import morphology as morph"
   ]
  },
  {
   "cell_type": "code",
   "execution_count": 39,
   "id": "olympic-olive",
   "metadata": {},
   "outputs": [],
   "source": [
    "src = '../hpcc/'\n",
    "dst = '../hpcc/traditional/'\n",
    "\n",
    "wsrc = src + 'clean/'\n",
    "tsrc = src + 'watershed/'\n",
    "rsrc = src + 'rotated/'\n",
    "\n",
    "fs = 15\n",
    "resol = 0.0759\n",
    "\n",
    "mborder = ndimage.generate_binary_structure(3, 1).astype(int)\n",
    "mborder[mborder == 1] = -1\n",
    "mborder[1,1,1] = -np.sum(mborder) - 1\n",
    "\n",
    "struc1 = ndimage.generate_binary_structure(3, 1)\n",
    "struc2 = ndimage.generate_binary_structure(3, 2)\n",
    "struc3 = ndimage.generate_binary_structure(3, 3)"
   ]
  },
  {
   "cell_type": "code",
   "execution_count": 55,
   "id": "chemical-purpose",
   "metadata": {},
   "outputs": [
    {
     "name": "stdout",
     "output_type": "stream",
     "text": [
      "2008SB_R8_T10_001\n"
     ]
    }
   ],
   "source": [
    "idname = '2008SB'\n",
    "\n",
    "rownum = 8\n",
    "treenum = 10\n",
    "nutnum = 1\n",
    "\n",
    "bname = idname + '_R{}_T{}'.format(rownum, treenum)\n",
    "fname = bname + '_{:03d}'.format(nutnum)\n",
    "print(fname)\n",
    "\n",
    "wdst = dst + bname + '/'\n",
    "if not os.path.isdir(wdst):\n",
    "    os.makedirs(wdst)"
   ]
  },
  {
   "cell_type": "code",
   "execution_count": 56,
   "id": "appropriate-edmonton",
   "metadata": {},
   "outputs": [
    {
     "name": "stdout",
     "output_type": "stream",
     "text": [
      "2008SB_R8_T10_001\n"
     ]
    }
   ],
   "source": [
    "fname = bname + '_{:03d}'.format(nutnum)\n",
    "print(fname)\n",
    "\n",
    "#img = tf.imread(wsrc + bname + '/' + fname + '.tif')\n",
    "\n",
    "tissuefiles = tsrc + bname + '/' + fname + '_'\n",
    "shell= tf.imread(tissuefiles + 'shell.tif')\n",
    "protrusion = tf.imread(tissuefiles + 'protrusion.tif')\n",
    "\n",
    "extshell = np.zeros_like(shell, dtype=np.bool)\n",
    "extshell[protrusion == 3] = True"
   ]
  },
  {
   "cell_type": "markdown",
   "id": "elect-fundamentals",
   "metadata": {},
   "source": [
    "# Shell thickness (ver 1)"
   ]
  },
  {
   "cell_type": "code",
   "execution_count": null,
   "id": "peripheral-milan",
   "metadata": {},
   "outputs": [],
   "source": [
    "shelldist = ndimage.distance_transform_cdt(extshell, 'chessboard')\n",
    "#shelldist = ndimage.distance_transform_edt(extshell)\n",
    "cval = np.max(shelldist)\n",
    "hist, bins = np.histogram(shelldist, bins=cval, range=(1,cval+1), density=False)\n",
    "#hist, bins = np.histogram(shelldist, bins=int(cval), range=(1,int(cval)+1), density=False)"
   ]
  },
  {
   "cell_type": "code",
   "execution_count": null,
   "id": "textile-walker",
   "metadata": {},
   "outputs": [],
   "source": [
    "plt.figure(figsize=(15,5))\n",
    "\n",
    "idx = 5;plt.axvline(x=idx, ls='--', c='g', zorder=1);#plt.axhline(y=hist[idx-1], ls='--', c='g', zorder=1)\n",
    "idx = 7;plt.axvline(x=idx, ls='--', c='gray', zorder=1);#plt.axhline(y=hist[idx-1], ls='--', c='gray', zorder=1)\n",
    "idx =10;plt.axvline(x=idx, ls='--', c='m', zorder=1);#plt.axhline(y=hist[idx-1], ls='--', c='m', zorder=1)\n",
    "\n",
    "#plt.plot(bins[:-1], hist, marker='o', mec='y', c='r', mfc='b', ds='steps-pre');\n",
    "plt.plot(bins[:-1], hist, lw=3, ms=7, marker='o', mec='y', c='r', mfc='b', ds='steps-mid', zorder=10);\n",
    "#plt.plot(bins[:-1], hist, marker='o', mec='y', c='r', mfc='b', ds='steps-post');\n",
    "\n",
    "plt.title(fname, fontsize=fs);"
   ]
  },
  {
   "cell_type": "code",
   "execution_count": null,
   "id": "quality-encoding",
   "metadata": {},
   "outputs": [],
   "source": [
    "diff = np.ediff1d(hist)\n",
    "vx = np.argmin(diff) + 2\n",
    "print(vx)\n",
    "2*vx*resol"
   ]
  },
  {
   "cell_type": "code",
   "execution_count": null,
   "id": "russian-lightweight",
   "metadata": {},
   "outputs": [],
   "source": [
    "snaps = wnut.collapse_dimensions(intshell)\n",
    "wnut.plot_collapse_dimensions(snaps, fname, tissue[i], dst=wdsts, writefig=False, display=True)"
   ]
  },
  {
   "cell_type": "markdown",
   "id": "southern-compound",
   "metadata": {},
   "source": [
    "# Shell thickness (ver 2)"
   ]
  },
  {
   "cell_type": "code",
   "execution_count": 57,
   "id": "virtual-celebrity",
   "metadata": {},
   "outputs": [],
   "source": [
    "NNN = 8\n",
    "adds = 10*np.arange(NNN+1)[1:]\n",
    "\n",
    "x = shell.shape[0]//2\n",
    "Sx = [ np.s_[x-add,:,:] for add in adds][::-1] + [np.s_[x,:,:]] + [ np.s_[x+add,:,:] for add in adds]\n",
    "\n",
    "y = shell.shape[1]//2\n",
    "Sy = [ np.s_[:,y-add,:] for add in adds][::-1] + [np.s_[:,y,:]] + [ np.s_[:,y+add,:] for add in adds]\n",
    "\n",
    "z = shell.shape[2]//2\n",
    "Sz = [ np.s_[:,:,z-add] for add in adds][::-1] + [np.s_[:,:,z]] + [ np.s_[:,:,z+add] for add in adds]\n",
    "\n",
    "Sxyz = Sx + Sy + Sz"
   ]
  },
  {
   "cell_type": "code",
   "execution_count": 58,
   "id": "developing-portsmouth",
   "metadata": {},
   "outputs": [],
   "source": [
    "PAD = 5\n",
    "closed = np.pad(extshell.copy(), PAD)\n",
    "closed = ndimage.binary_dilation(closed, struc1, PAD-3, border_value=0)\n",
    "closed = ndimage.binary_erosion(closed, struc1, 2*(PAD-3), border_value=1)\n",
    "closed = ndimage.binary_dilation(closed, struc1, PAD-3, border_value=0)\n",
    "closed = closed[PAD:-PAD, PAD:-PAD, PAD:-PAD]"
   ]
  },
  {
   "cell_type": "code",
   "execution_count": 59,
   "id": "warming-ranking",
   "metadata": {},
   "outputs": [],
   "source": [
    "thickslices = np.zeros((len(Sxyz),4))\n",
    "\n",
    "for i in range(len(Sxyz)):\n",
    "    slc = closed[Sxyz[i]]\n",
    "    dist = ndimage.distance_transform_edt(slc)\n",
    "    skel = morph.skeletonize(slc)\n",
    "    ma = dist[skel]\n",
    "    thickslices[i] = np.mean(ma), np.median(ma), np.std(ma, ddof=1), np.var(ma, ddof=1)"
   ]
  },
  {
   "cell_type": "code",
   "execution_count": 60,
   "id": "neither-lancaster",
   "metadata": {},
   "outputs": [
    {
     "data": {
      "text/html": [
       "<div>\n",
       "<style scoped>\n",
       "    .dataframe tbody tr th:only-of-type {\n",
       "        vertical-align: middle;\n",
       "    }\n",
       "\n",
       "    .dataframe tbody tr th {\n",
       "        vertical-align: top;\n",
       "    }\n",
       "\n",
       "    .dataframe thead th {\n",
       "        text-align: right;\n",
       "    }\n",
       "</style>\n",
       "<table border=\"1\" class=\"dataframe\">\n",
       "  <thead>\n",
       "    <tr style=\"text-align: right;\">\n",
       "      <th></th>\n",
       "      <th>0</th>\n",
       "      <th>1</th>\n",
       "      <th>2</th>\n",
       "      <th>3</th>\n",
       "    </tr>\n",
       "  </thead>\n",
       "  <tbody>\n",
       "    <tr>\n",
       "      <th>count</th>\n",
       "      <td>51.000000</td>\n",
       "      <td>51.000000</td>\n",
       "      <td>51.000000</td>\n",
       "      <td>51.000000</td>\n",
       "    </tr>\n",
       "    <tr>\n",
       "      <th>mean</th>\n",
       "      <td>9.372762</td>\n",
       "      <td>8.537175</td>\n",
       "      <td>3.491114</td>\n",
       "      <td>15.329184</td>\n",
       "    </tr>\n",
       "    <tr>\n",
       "      <th>std</th>\n",
       "      <td>1.332423</td>\n",
       "      <td>0.590596</td>\n",
       "      <td>1.790010</td>\n",
       "      <td>15.099839</td>\n",
       "    </tr>\n",
       "    <tr>\n",
       "      <th>min</th>\n",
       "      <td>7.903454</td>\n",
       "      <td>7.810250</td>\n",
       "      <td>1.128052</td>\n",
       "      <td>1.272502</td>\n",
       "    </tr>\n",
       "    <tr>\n",
       "      <th>25%</th>\n",
       "      <td>8.439998</td>\n",
       "      <td>8.062258</td>\n",
       "      <td>1.762640</td>\n",
       "      <td>3.106989</td>\n",
       "    </tr>\n",
       "    <tr>\n",
       "      <th>50%</th>\n",
       "      <td>8.996686</td>\n",
       "      <td>8.246211</td>\n",
       "      <td>3.214563</td>\n",
       "      <td>10.333414</td>\n",
       "    </tr>\n",
       "    <tr>\n",
       "      <th>75%</th>\n",
       "      <td>9.647846</td>\n",
       "      <td>9.000000</td>\n",
       "      <td>4.339755</td>\n",
       "      <td>18.834648</td>\n",
       "    </tr>\n",
       "    <tr>\n",
       "      <th>max</th>\n",
       "      <td>13.023040</td>\n",
       "      <td>10.049876</td>\n",
       "      <td>7.720177</td>\n",
       "      <td>59.601130</td>\n",
       "    </tr>\n",
       "  </tbody>\n",
       "</table>\n",
       "</div>"
      ],
      "text/plain": [
       "               0          1          2          3\n",
       "count  51.000000  51.000000  51.000000  51.000000\n",
       "mean    9.372762   8.537175   3.491114  15.329184\n",
       "std     1.332423   0.590596   1.790010  15.099839\n",
       "min     7.903454   7.810250   1.128052   1.272502\n",
       "25%     8.439998   8.062258   1.762640   3.106989\n",
       "50%     8.996686   8.246211   3.214563  10.333414\n",
       "75%     9.647846   9.000000   4.339755  18.834648\n",
       "max    13.023040  10.049876   7.720177  59.601130"
      ]
     },
     "execution_count": 60,
     "metadata": {},
     "output_type": "execute_result"
    }
   ],
   "source": [
    "pd.DataFrame(thickslices).describe()"
   ]
  },
  {
   "cell_type": "code",
   "execution_count": 61,
   "id": "rubber-bleeding",
   "metadata": {},
   "outputs": [
    {
     "data": {
      "text/plain": [
       "array([1.42278524, 1.2959431 , 1.36569694, 1.25177487])"
      ]
     },
     "execution_count": 61,
     "metadata": {},
     "output_type": "execute_result"
    }
   ],
   "source": [
    "vx = np.asarray([np.mean(thickslices[:,0]), np.mean(thickslices[:,1]), np.median(thickslices[:,0]), np.median(thickslices[:,1])])\n",
    "2*vx*resol"
   ]
  },
  {
   "cell_type": "code",
   "execution_count": 36,
   "id": "assumed-barbados",
   "metadata": {},
   "outputs": [],
   "source": [
    "\n",
    "\n",
    "ss = np.s_[:,:,302]\n",
    "slc = extshell[ss]\n",
    "\n",
    "\n",
    "PAD = 5\n",
    "closed = np.pad(slc, PAD)\n",
    "closed = ndimage.binary_dilation(closed, struc1, PAD-3, border_value=0)\n",
    "closed = ndimage.binary_erosion(closed, struc1, 2*(PAD-3), border_value=1)\n",
    "closed = ndimage.binary_dilation(closed, struc1, PAD-3, border_value=0)"
   ]
  },
  {
   "cell_type": "code",
   "execution_count": 37,
   "id": "transsexual-canon",
   "metadata": {},
   "outputs": [],
   "source": [
    "# dist = ndimage.distance_transform_cdt(slc, 'chessboard')\n",
    "dist = ndimage.distance_transform_edt(closed)\n",
    "ma = morph.skeletonize(closed)"
   ]
  },
  {
   "cell_type": "code",
   "execution_count": 38,
   "id": "swiss-yugoslavia",
   "metadata": {},
   "outputs": [
    {
     "data": {
      "image/png": "[encoded data removed]",
      "text/plain": [
       "<Figure size 1152x648 with 2 Axes>"
      ]
     },
     "metadata": {
      "needs_background": "light"
     },
     "output_type": "display_data"
    }
   ],
   "source": [
    "fig, ax = plt.subplots(1,2,figsize=(16,9), sharex=True, sharey=True)\n",
    "ax = np.atleast_1d(ax).flatten()\n",
    "i = 0\n",
    "#ax[i].imshow(slc, cmap='inferno', origin='lower'); i+=1\n",
    "ax[i].imshow(closed, cmap='inferno', origin='lower'); i+=1\n",
    "#ax[i].imshow(dist, cmap='inferno', origin='lower'); i+=1\n",
    "ax[i].imshow(ma, cmap='inferno', origin='lower'); i+=1\n",
    "\n",
    "fig.suptitle(fname, fontsize=fs)\n",
    "fig.tight_layout()"
   ]
  },
  {
   "cell_type": "code",
   "execution_count": 34,
   "id": "arranged-polls",
   "metadata": {},
   "outputs": [
    {
     "name": "stdout",
     "output_type": "stream",
     "text": [
      "6.324555320336759\n"
     ]
    },
    {
     "data": {
      "text/plain": [
       "0.96006749762712"
      ]
     },
     "execution_count": 34,
     "metadata": {},
     "output_type": "execute_result"
    }
   ],
   "source": [
    "vx = np.median(dist[ma])\n",
    "print(vx)\n",
    "2*vx*resol"
   ]
  }
 ],
 "metadata": {
  "kernelspec": {
   "display_name": "Python 3",
   "language": "python",
   "name": "python3"
  },
  "language_info": {
   "codemirror_mode": {
    "name": "ipython",
    "version": 3
   },
   "file_extension": ".py",
   "mimetype": "text/x-python",
   "name": "python",
   "nbconvert_exporter": "python",
   "pygments_lexer": "ipython3",
   "version": "3.6.9"
  }
 },
 "nbformat": 4,
 "nbformat_minor": 5
}
