{
 "cells": [
  {
   "cell_type": "code",
   "execution_count": 41,
   "id": "numeric-spanking",
   "metadata": {},
   "outputs": [],
   "source": [
    "import numpy as np\n",
    "import pandas as pd\n",
    "import os\n",
    "import glob \n",
    "\n",
    "src = '../hpcc/topology/'"
   ]
  },
  {
   "cell_type": "code",
   "execution_count": 29,
   "id": "separate-roller",
   "metadata": {},
   "outputs": [
    {
     "name": "stdout",
     "output_type": "stream",
     "text": [
      "2014SBa_R1_T36_001\n",
      "0\t4\t600\n",
      "1\t8\t1200\n",
      "2\t16\t2400\n",
      "3\t32\t4800\n",
      "4\t64\t9600\n"
     ]
    }
   ],
   "source": [
    "idname = '2014SBa'\n",
    "\n",
    "rownum = 1\n",
    "treenum = 36\n",
    "nutnum = 1\n",
    "\n",
    "bname = idname + '_R{}_T{}'.format(rownum, treenum)\n",
    "fname = bname + '_{:03d}'.format(nutnum)\n",
    "print(fname)\n",
    "\n",
    "esrc = src + bname + '/' + fname + '_'\n",
    "DD = 150\n",
    "TT = [4,8,16,32,64]\n",
    "\n",
    "ects = [None for i in range(len(TT))]\n",
    "for i in range(len(ects)):\n",
    "    ects[i] = np.loadtxt(esrc + 'd{:04d}_t{:02d}.csv'.format(DD,TT[i]), delimiter=',', dtype=int)\n",
    "\n",
    "for i in range(len(ects)):\n",
    "    print(i, TT[i], len(ects[i]), sep='\\t')"
   ]
  },
  {
   "cell_type": "code",
   "execution_count": 30,
   "id": "dutch-fairy",
   "metadata": {},
   "outputs": [
    {
     "name": "stdout",
     "output_type": "stream",
     "text": [
      "0\n",
      "[ 2  0  3  2  3  2  2  2  0  1  3  2 -6  2  4]\n",
      "1\n",
      "[ 4  2  0  0 -1  3 -9  2  2  3  1  2  2  2  2]\n",
      "2\n",
      "[ 13   4   1   2  -2   0  -2   0   1  -1 -10   3   3  -9  -9]\n",
      "3\n",
      "[-15  13  16   4  -3   1  -2   2   4  -2   2   0   2  -2   2]\n",
      "4\n",
      "[ -6 -15   8  13 -10  16  -4   4   0  -3  10   1   4  -2  18]\n"
     ]
    }
   ],
   "source": [
    "for i in range(len(ects)):\n",
    "    print(i, ects[i][:15], sep='\\n')"
   ]
  },
  {
   "cell_type": "code",
   "execution_count": 31,
   "id": "rational-fighter",
   "metadata": {},
   "outputs": [
    {
     "name": "stdout",
     "output_type": "stream",
     "text": [
      "4800\n"
     ]
    },
    {
     "data": {
      "text/plain": [
       "0"
      ]
     },
     "execution_count": 31,
     "metadata": {},
     "output_type": "execute_result"
    }
   ],
   "source": [
    "idx = 3\n",
    "j = 4 - idx\n",
    "foo = ects[4][(2**j-1)::2**j]\n",
    "print(len(foo))\n",
    "np.sum(np.abs(foo - ects[idx]))"
   ]
  },
  {
   "cell_type": "code",
   "execution_count": 34,
   "id": "intellectual-channel",
   "metadata": {},
   "outputs": [
    {
     "data": {
      "text/plain": [
       "64"
      ]
     },
     "execution_count": 34,
     "metadata": {},
     "output_type": "execute_result"
    }
   ],
   "source": [
    "Tvals = [4,8,16,32,64]\n",
    "Tmax = max(Tvals)\n",
    "Tmax"
   ]
  },
  {
   "cell_type": "code",
   "execution_count": 48,
   "id": "pleasant-paragraph",
   "metadata": {},
   "outputs": [
    {
     "name": "stdout",
     "output_type": "stream",
     "text": [
      "2014SBa_R1_T36_001\n",
      "../hpcc/clean/2014SBa_R1_T36/2014SBa_R1_T36_001.tif\twalnut\n",
      "../hpcc/topology/2014SBa_R1_T36/2014SBa_R1_T36_001_shell.tif\tshell\n",
      "../hpcc/topology/2014SBa_R1_T36/2014SBa_R1_T36_001_meat.tif\tkernel\n"
     ]
    }
   ],
   "source": [
    "csrc = '../hpcc/clean/'\n",
    "walnut_files = sorted(glob.glob(csrc + bname + '/*.tif'))\n",
    "widx = 0\n",
    "pa, fi = os.path.split(walnut_files[widx])\n",
    "fname = os.path.splitext(fi)[0]\n",
    "shell_file = src + bname + '/' + fname + '_shell.tif'\n",
    "kernel_file = src + bname + '/' + fname + '_meat.tif'\n",
    "print(fname)\n",
    "\n",
    "for imgfile, imgname in zip([walnut_files[widx], shell_file, kernel_file], ['walnut', 'shell', 'kernel']):\n",
    "    print(imgfile, imgname, sep='\\t')"
   ]
  }
 ],
 "metadata": {
  "kernelspec": {
   "display_name": "Python 3",
   "language": "python",
   "name": "python3"
  },
  "language_info": {
   "codemirror_mode": {
    "name": "ipython",
    "version": 3
   },
   "file_extension": ".py",
   "mimetype": "text/x-python",
   "name": "python",
   "nbconvert_exporter": "python",
   "pygments_lexer": "ipython3",
   "version": "3.6.9"
  }
 },
 "nbformat": 4,
 "nbformat_minor": 5
}
