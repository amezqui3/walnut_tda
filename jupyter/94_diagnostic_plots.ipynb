{
 "cells": [
  {
   "cell_type": "code",
   "execution_count": 1,
   "id": "funky-guinea",
   "metadata": {},
   "outputs": [],
   "source": [
    "import tifffile as tf\n",
    "from scipy import ndimage\n",
    "import numpy as np\n",
    "import numpy.polynomial.polynomial as P\n",
    "import os\n",
    "import glob\n",
    "from importlib import reload\n",
    "\n",
    "import warnings\n",
    "warnings.filterwarnings( \"ignore\")\n",
    "from matplotlib import pyplot as plt\n",
    "%matplotlib inline\n",
    "\n",
    "import walnut_utils as wnut"
   ]
  },
  {
   "cell_type": "code",
   "execution_count": 2,
   "id": "rotary-handy",
   "metadata": {},
   "outputs": [],
   "source": [
    "src = '../clean/'\n",
    "srcs = '../shells/'\n",
    "srcm = '../meats/'\n",
    "\n",
    "walnut_batch = sorted(glob.glob( src + '*/' ))\n",
    "bidx = 1\n",
    "walnut_files = sorted(glob.glob(walnut_batch[bidx] + '*.tif'))\n",
    "bname = walnut_batch[bidx].split('/')[-2]"
   ]
  },
  {
   "cell_type": "code",
   "execution_count": 3,
   "id": "actual-flour",
   "metadata": {},
   "outputs": [
    {
     "data": {
      "text/plain": [
       "['../clean/2014SBa_R1_T3/001.tif',\n",
       " '../clean/2014SBa_R1_T3/002.tif',\n",
       " '../clean/2014SBa_R1_T3/003.tif',\n",
       " '../clean/2014SBa_R1_T3/004.tif',\n",
       " '../clean/2014SBa_R1_T3/005.tif',\n",
       " '../clean/2014SBa_R1_T3/006.tif',\n",
       " '../clean/2014SBa_R1_T3/007.tif',\n",
       " '../clean/2014SBa_R1_T3/008.tif']"
      ]
     },
     "execution_count": 3,
     "metadata": {},
     "output_type": "execute_result"
    }
   ],
   "source": [
    "walnut_files"
   ]
  }
 ],
 "metadata": {
  "kernelspec": {
   "display_name": "Python 3",
   "language": "python",
   "name": "python3"
  },
  "language_info": {
   "codemirror_mode": {
    "name": "ipython",
    "version": 3
   },
   "file_extension": ".py",
   "mimetype": "text/x-python",
   "name": "python",
   "nbconvert_exporter": "python",
   "pygments_lexer": "ipython3",
   "version": "3.6.9"
  }
 },
 "nbformat": 4,
 "nbformat_minor": 5
}
