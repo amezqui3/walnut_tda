{
 "cells": [
  {
   "cell_type": "code",
   "execution_count": 1,
   "id": "organic-sauce",
   "metadata": {},
   "outputs": [],
   "source": [
    "import tifffile as tf\n",
    "from scipy import ndimage\n",
    "\n",
    "import numpy as np\n",
    "import pandas as pd\n",
    "\n",
    "import os\n",
    "\n",
    "import glob\n",
    "from importlib import reload\n",
    "\n",
    "import warnings\n",
    "warnings.filterwarnings( \"ignore\")\n",
    "from matplotlib import pyplot as plt\n",
    "%matplotlib inline\n",
    "\n",
    "import walnut_utils as wnut"
   ]
  },
  {
   "cell_type": "code",
   "execution_count": 80,
   "id": "patient-liberal",
   "metadata": {},
   "outputs": [
    {
     "name": "stdout",
     "output_type": "stream",
     "text": [
      "2008SB_R4_T13_001\n",
      "../figs/2008SB_R4_T13/\n"
     ]
    }
   ],
   "source": [
    "src = '../hpcc/'\n",
    "wsrc = src + 'clean/'\n",
    "tsrc = src + 'watershed/'\n",
    "dst = '../figs/'\n",
    "idname = '2008SB'\n",
    "rownum = 4\n",
    "treenum = 13\n",
    "nutnum = 1\n",
    "\n",
    "bname = idname + '_R{}_T{}'.format(rownum, treenum)\n",
    "fname = bname + '_{:03d}'.format(nutnum)\n",
    "print(fname)\n",
    "\n",
    "wdst = dst + bname + '/'\n",
    "if not os.path.isdir(wdst):\n",
    "    os.makedirs(wdst)\n",
    "print(wdst)"
   ]
  },
  {
   "cell_type": "code",
   "execution_count": 81,
   "id": "moral-tower",
   "metadata": {},
   "outputs": [],
   "source": [
    "img = tf.imread(wsrc + bname + '/' + fname + '.tif')\n",
    "tissuefiles = tsrc + bname + '/' + fname + '_'\n",
    "air  = tf.imread(tissuefiles + 'air.tif')\n",
    "meat = tf.imread(tissuefiles + 'meat.tif')\n",
    "shell= tf.imread(tissuefiles + 'shell.tif')\n",
    "vein = tf.imread(tissuefiles + 'vein.tif')"
   ]
  },
  {
   "cell_type": "code",
   "execution_count": 82,
   "id": "legendary-vietnam",
   "metadata": {},
   "outputs": [
    {
     "data": {
      "text/plain": [
       "7"
      ]
     },
     "execution_count": 82,
     "metadata": {},
     "output_type": "execute_result"
    }
   ],
   "source": [
    "watershed = np.zeros_like(img)\n",
    "watershed[img > 0] = 3\n",
    "watershed[meat > 0] += 1\n",
    "watershed[shell > 0] += 2\n",
    "watershed[vein > 0] += 3\n",
    "watershed[air > 0] += 4\n",
    "watershed.max()"
   ]
  },
  {
   "cell_type": "code",
   "execution_count": 86,
   "id": "gothic-syntax",
   "metadata": {},
   "outputs": [
    {
     "data": {
      "text/plain": [
       "array([  5,  16,  27,  38,  49,  60,  71,  82,  93, 104, 115, 126, 137,\n",
       "       148, 159, 170, 181, 192, 203, 214, 225, 236, 247, 258, 269, 280,\n",
       "       291, 302, 313, 324, 335, 346, 357, 368, 379, 390, 401, 412, 423,\n",
       "       434, 445, 456, 467, 478, 489, 500, 511, 522, 533, 544],\n",
       "      dtype=uint64)"
      ]
     },
     "execution_count": 86,
     "metadata": {},
     "output_type": "execute_result"
    }
   ],
   "source": [
    "N = 50\n",
    "xx = np.linspace(5,img.shape[0]-5,N).astype(np.uint)\n",
    "yy = np.linspace(5,img.shape[1]-5,N).astype(np.uint)\n",
    "zz = np.linspace(5,img.shape[2]-5,N).astype(np.uint)\n",
    "xx"
   ]
  },
  {
   "cell_type": "code",
   "execution_count": 88,
   "id": "wanted-ordinary",
   "metadata": {},
   "outputs": [],
   "source": [
    "fs = 25\n",
    "k = 150\n",
    "\n",
    "for k in range(N):\n",
    "    ss = np.s_[xx[k],:,:]\n",
    "\n",
    "    fig, ax = plt.subplots(1,5,figsize=(16,4), sharex=True, sharey=True, facecolor='k')\n",
    "    ax = np.atleast_1d(ax).flatten()\n",
    "\n",
    "    i = 0\n",
    "    ax[i].imshow(img[ss], cmap='inferno', origin='lower', vmax=255, vmin=0); i += 1\n",
    "    ax[i].imshow(watershed[ss], cmap='magma', origin='lower', vmax=7, vmin=0); i += 1\n",
    "    ax[i].imshow(shell[ss], cmap='inferno', origin='lower', vmax=255, vmin=0); i += 1\n",
    "    ax[i].imshow(meat[ss], cmap='inferno', origin='lower', vmax=255, vmin=0); i += 1\n",
    "    ax[i].imshow(vein[ss], cmap='inferno', origin='lower', vmax=255, vmin=0); i += 1\n",
    "\n",
    "    for i in range(len(ax)):\n",
    "        ax[i].axis('off')\n",
    "\n",
    "    fig.suptitle(fname + ' (X plane)', fontsize=fs, color='w')\n",
    "    fig.tight_layout()\n",
    "\n",
    "    filename = wdst + fname + '_x_{:04d}'.format(k)\n",
    "    plt.savefig(filename + '.jpg', format='jpg', bbox_inches='tight', dpi=72, pil_kwargs={'optimize':True})\n",
    "    plt.close()\n",
    "    \n",
    "    ss = np.s_[:,yy[k],:]\n",
    "\n",
    "    fig, ax = plt.subplots(1,5,figsize=(16,4), sharex=True, sharey=True, facecolor='k')\n",
    "    ax = np.atleast_1d(ax).flatten()\n",
    "\n",
    "    i = 0\n",
    "    ax[i].imshow(img[ss], cmap='inferno', origin='lower', vmax=255, vmin=0); i += 1\n",
    "    ax[i].imshow(watershed[ss], cmap='magma', origin='lower', vmax=7, vmin=0); i += 1\n",
    "    ax[i].imshow(shell[ss], cmap='inferno', origin='lower', vmax=255, vmin=0); i += 1\n",
    "    ax[i].imshow(meat[ss], cmap='inferno', origin='lower', vmax=255, vmin=0); i += 1\n",
    "    ax[i].imshow(vein[ss], cmap='inferno', origin='lower', vmax=255, vmin=0); i += 1\n",
    "\n",
    "    for i in range(len(ax)):\n",
    "        ax[i].axis('off')\n",
    "\n",
    "    fig.suptitle(fname + ' (Y plane)', fontsize=fs, color='w')\n",
    "    fig.tight_layout()\n",
    "\n",
    "    filename = wdst + fname + '_y_{:04d}'.format(k)\n",
    "    plt.savefig(filename + '.jpg', format='jpg', bbox_inches='tight', dpi=72, pil_kwargs={'optimize':True})\n",
    "    plt.close()\n",
    "    \n",
    "    ss = np.s_[:,:,zz[k]]\n",
    "\n",
    "    fig, ax = plt.subplots(1,5,figsize=(16,4), sharex=True, sharey=True, facecolor='k')\n",
    "    ax = np.atleast_1d(ax).flatten()\n",
    "\n",
    "    i = 0\n",
    "    ax[i].imshow(img[ss], cmap='inferno', origin='lower', vmax=255, vmin=0); i += 1\n",
    "    ax[i].imshow(watershed[ss], cmap='magma', origin='lower', vmax=7, vmin=0); i += 1\n",
    "    ax[i].imshow(shell[ss], cmap='inferno', origin='lower', vmax=255, vmin=0); i += 1\n",
    "    ax[i].imshow(meat[ss], cmap='inferno', origin='lower', vmax=255, vmin=0); i += 1\n",
    "    ax[i].imshow(vein[ss], cmap='inferno', origin='lower', vmax=255, vmin=0); i += 1\n",
    "\n",
    "    for i in range(len(ax)):\n",
    "        ax[i].axis('off')\n",
    "\n",
    "    fig.suptitle(fname + ' (Z plane)', fontsize=fs, color='w')\n",
    "    fig.tight_layout()\n",
    "\n",
    "    filename = wdst + fname + '_z_{:04d}'.format(k)\n",
    "    plt.savefig(filename + '.jpg', format='jpg', bbox_inches='tight', dpi=72, pil_kwargs={'optimize':True})\n",
    "    plt.close()"
   ]
  },
  {
   "cell_type": "code",
   "execution_count": 87,
   "id": "capable-metropolitan",
   "metadata": {},
   "outputs": [],
   "source": [
    "fs = 21\n",
    "k = 35\n",
    "\n",
    "for k in range(len(xx)):\n",
    "    fig, ax = plt.subplots(3,5,figsize=(16,10), sharex=False, sharey=False, facecolor='k')\n",
    "    ax = np.atleast_1d(ax).flatten()\n",
    "    \n",
    "    i = 0\n",
    "    ss = np.s_[xx[k],:,:]\n",
    "    ax[i].imshow(img[ss], cmap='inferno', origin='lower', vmax=255, vmin=0); i += 1\n",
    "    ax[i].imshow(watershed[ss], cmap='magma', origin='lower', vmax=7, vmin=0); i += 1\n",
    "    ax[i].imshow(shell[ss], cmap='inferno', origin='lower', vmax=255, vmin=0); i += 1\n",
    "    ax[i].imshow(meat[ss], cmap='inferno', origin='lower', vmax=255, vmin=0); i += 1\n",
    "    ax[i].imshow(vein[ss], cmap='inferno', origin='lower', vmax=255, vmin=0); i += 1\n",
    "\n",
    "    ss = np.s_[:,yy[k],:]\n",
    "    ax[i].imshow(img[ss], cmap='inferno', origin='lower', vmax=255, vmin=0); i += 1\n",
    "    ax[i].imshow(watershed[ss], cmap='magma', origin='lower', vmax=7, vmin=0); i += 1\n",
    "    ax[i].imshow(shell[ss], cmap='inferno', origin='lower', vmax=255, vmin=0); i += 1\n",
    "    ax[i].imshow(meat[ss], cmap='inferno', origin='lower', vmax=255, vmin=0); i += 1\n",
    "    ax[i].imshow(vein[ss], cmap='inferno', origin='lower', vmax=255, vmin=0); i += 1\n",
    "\n",
    "    ss = np.s_[:,:,zz[k]]\n",
    "    ax[i].imshow(img[ss], cmap='inferno', origin='lower', vmax=255, vmin=0); i += 1\n",
    "    ax[i].imshow(watershed[ss], cmap='magma', origin='lower', vmax=7, vmin=0); i += 1\n",
    "    ax[i].imshow(shell[ss], cmap='inferno', origin='lower', vmax=255, vmin=0); i += 1\n",
    "    ax[i].imshow(meat[ss], cmap='inferno', origin='lower', vmax=255, vmin=0); i += 1\n",
    "    ax[i].imshow(vein[ss], cmap='inferno', origin='lower', vmax=255, vmin=0); i += 1\n",
    "\n",
    "    for i in range(len(ax)):\n",
    "        ax[i].get_xaxis().set_ticks([])\n",
    "        ax[i].get_yaxis().set_ticks([])\n",
    "        for spine in ax[i].spines.values():\n",
    "            spine.set_visible(False)\n",
    "        ax[i].set_aspect('equal')\n",
    "\n",
    "    ax[ 0].set_ylabel('X plane', color='w', fontsize=fs)\n",
    "    ax[ 5].set_ylabel('Y plane', color='w', fontsize=fs)\n",
    "    ax[10].set_ylabel('Z plane', color='w', fontsize=fs)\n",
    "\n",
    "    ax[10].set_xlabel('Whole', color='w', fontsize=fs)\n",
    "    ax[11].set_xlabel('Watershed', color='w', fontsize=fs)\n",
    "    ax[12].set_xlabel('Shell', color='w', fontsize=fs)\n",
    "    ax[13].set_xlabel('Kernel', color='w', fontsize=fs)\n",
    "    ax[14].set_xlabel('Packing', color='w', fontsize=fs)\n",
    "\n",
    "    fig.suptitle(fname, fontsize=25, color='w')\n",
    "    fig.tight_layout()\n",
    "\n",
    "    filename = wdst + fname + '_w_{:04d}'.format(k)\n",
    "    plt.savefig(filename + '.jpg', format='jpg', bbox_inches='tight', dpi=72, pil_kwargs={'optimize':True})\n",
    "    plt.close()"
   ]
  },
  {
   "cell_type": "code",
   "execution_count": 64,
   "id": "parliamentary-allergy",
   "metadata": {},
   "outputs": [
    {
     "data": {
      "text/plain": [
       "(15,)"
      ]
     },
     "execution_count": 64,
     "metadata": {},
     "output_type": "execute_result"
    }
   ],
   "source": [
    "ax.shape"
   ]
  }
 ],
 "metadata": {
  "kernelspec": {
   "display_name": "Python 3",
   "language": "python",
   "name": "python3"
  },
  "language_info": {
   "codemirror_mode": {
    "name": "ipython",
    "version": 3
   },
   "file_extension": ".py",
   "mimetype": "text/x-python",
   "name": "python",
   "nbconvert_exporter": "python",
   "pygments_lexer": "ipython3",
   "version": "3.6.9"
  }
 },
 "nbformat": 4,
 "nbformat_minor": 5
}
